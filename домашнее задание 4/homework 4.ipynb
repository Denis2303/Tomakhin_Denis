{
 "cells": [
  {
   "cell_type": "code",
   "execution_count": 2,
   "id": "72939e81-1b47-48cd-a71f-6172742b75fe",
   "metadata": {},
   "outputs": [
    {
     "name": "stdout",
     "output_type": "stream",
     "text": [
      "Номер А222ВС валиден. Регион: 96.\n",
      "Номер не валиден.\n"
     ]
    }
   ],
   "source": [
    "import re\n",
    "\n",
    "def check_car_id(car_id):\n",
    "    letters = \"АВЕКМНОРСТУХ\"\n",
    "\n",
    "    pattern = rf\"^([{letters}])(\\d{{3}})([{letters}]{{2}})(\\d{{2,3}})$\"\n",
    "\n",
    "    match = re.match(pattern, car_id)\n",
    "    if match:\n",
    "        number = match.group(1) + match.group(2) + match.group(3)\n",
    "        region = match.group(4)\n",
    "        print(f\"Номер {number} валиден. Регион: {region}.\")\n",
    "    else:\n",
    "        print(\"Номер не валиден.\")\n",
    "\n",
    "check_car_id('А222ВС96')\n",
    "check_car_id('АБ22ВВ193')"
   ]
  },
  {
   "cell_type": "code",
   "execution_count": null,
   "id": "eff05209-f310-4501-9e93-cbf201630f3d",
   "metadata": {},
   "outputs": [],
   "source": []
  }
 ],
 "metadata": {
  "kernelspec": {
   "display_name": "Python 3 (ipykernel)",
   "language": "python",
   "name": "python3"
  },
  "language_info": {
   "codemirror_mode": {
    "name": "ipython",
    "version": 3
   },
   "file_extension": ".py",
   "mimetype": "text/x-python",
   "name": "python",
   "nbconvert_exporter": "python",
   "pygments_lexer": "ipython3",
   "version": "3.11.5"
  }
 },
 "nbformat": 4,
 "nbformat_minor": 5
}
