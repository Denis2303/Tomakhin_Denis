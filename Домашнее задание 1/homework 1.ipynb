{
 "cells": [
  {
   "cell_type": "markdown",
   "id": "b1e4fba8-ff5c-4f2b-82e0-1408c15f5cd3",
   "metadata": {},
   "source": [
    "*Задание 1*"
   ]
  },
  {
   "cell_type": "code",
   "execution_count": 12,
   "id": "fe471895-46be-4b28-98f1-3e35303e9a8a",
   "metadata": {},
   "outputs": [
    {
     "data": {
      "text/plain": [
       "<_io.TextIOWrapper name='purchase_log.txt' mode='r' encoding='utf-8'>"
      ]
     },
     "execution_count": 12,
     "metadata": {},
     "output_type": "execute_result"
    }
   ],
   "source": [
    "f = open('purchase_log.txt', encoding = 'utf-8')\n",
    "f"
   ]
  },
  {
   "cell_type": "code",
   "execution_count": 13,
   "id": "d8d79181-1086-491d-b7a5-7d6f762265d3",
   "metadata": {},
   "outputs": [
    {
     "name": "stdout",
     "output_type": "stream",
     "text": [
      "1840e0b9d4 Продукты\n",
      "4e4f90fcfb Электроника\n",
      "afea8d72fc Электроника\n",
      "373a6055fe Бытовая техника\n",
      "9b2ab046f3 Электроника\n"
     ]
    }
   ],
   "source": [
    "import json\n",
    "purchases = {}\n",
    "\n",
    "for line in f:\n",
    "    obj = json.loads(line)\n",
    "    if obj[\"user_id\"] != \"user_id\":\n",
    "        purchases[obj[\"user_id\"]] = obj[\"category\"]\n",
    "\n",
    "for i, (user_id, category) in enumerate(purchases.items()):\n",
    "    print(user_id, category)\n",
    "    if i == 4: \n",
    "        break\n"
   ]
  },
  {
   "cell_type": "code",
   "execution_count": 8,
   "id": "0752d3bb-1e3d-41d0-aa0a-3af2e268425a",
   "metadata": {},
   "outputs": [
    {
     "name": "stdout",
     "output_type": "stream",
     "text": [
      "['1840e0b9d4', 'other', 'Продукты']\n",
      "['4e4f90fcfb', 'context', 'Электроника']\n",
      "['afea8d72fc', 'other', 'Электроника']\n",
      "['2824221f38', 'email', 'Продукты']\n",
      "['373a6055fe', 'other', 'Бытовая техника']\n"
     ]
    }
   ],
   "source": [
    "import csv\n",
    "\n",
    "with open('visit_log (2).csv', 'r', encoding='utf-8') as visits, \\\n",
    "     open('funnel.csv', 'w', encoding='utf-8-sig', newline='') as funnel:  # <— важно: utf-8-sig\n",
    "    reader = csv.reader(visits)\n",
    "    writer = csv.writer(funnel)\n",
    "    writer.writerow(['user_id', 'source', 'category'])\n",
    "    i = 0\n",
    "    for user_id, source in reader:\n",
    "        if user_id in purchases:\n",
    "            writer.writerow([user_id, source, purchases[user_id]])\n",
    "            if i < 5:\n",
    "                print([user_id, source, purchases[user_id]])\n",
    "            i += 1"
   ]
  },
  {
   "cell_type": "code",
   "execution_count": null,
   "id": "412362a2-8bca-427f-9a6f-7a3b05fcb39a",
   "metadata": {},
   "outputs": [],
   "source": []
  }
 ],
 "metadata": {
  "kernelspec": {
   "display_name": "Python 3 (ipykernel)",
   "language": "python",
   "name": "python3"
  },
  "language_info": {
   "codemirror_mode": {
    "name": "ipython",
    "version": 3
   },
   "file_extension": ".py",
   "mimetype": "text/x-python",
   "name": "python",
   "nbconvert_exporter": "python",
   "pygments_lexer": "ipython3",
   "version": "3.11.5"
  }
 },
 "nbformat": 4,
 "nbformat_minor": 5
}
