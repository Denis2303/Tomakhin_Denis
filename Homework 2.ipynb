{
 "cells": [
  {
   "cell_type": "code",
   "execution_count": 3,
   "id": "ef6d522b-d6a0-492a-8930-9e175149fb7c",
   "metadata": {},
   "outputs": [
    {
     "name": "stdout",
     "output_type": "stream",
     "text": [
      "2002-10-02 00:00:00\n",
      "2013-10-11 00:00:00\n",
      "1977-08-18 00:00:00\n"
     ]
    }
   ],
   "source": [
    "from datetime import datetime\n",
    "\n",
    "# Даты из условия\n",
    "moscow_times = \"Wednesday, October 2, 2002\"\n",
    "guardian = \"Friday, 11.10.13\"\n",
    "daily_news = \"Thursday, 18 August 1977\"\n",
    "\n",
    "fmt_moscow_times = \"%A, %B %d, %Y\"   \n",
    "fmt_guardian = \"%A, %d.%m.%y\"        \n",
    "fmt_daily_news = \"%A, %d %B %Y\"      \n",
    "\n",
    "datetime_moscow_times = datetime.strptime(moscow_times, fmt_moscow_times)\n",
    "datetime_moscow_times_guardian = datetime.strptime(guardian, fmt_guardian)\n",
    "datetime_moscow_times_daily_news = datetime.strptime(daily_news, fmt_daily_news)\n",
    "\n",
    "print(datetime_moscow_times)\n",
    "print(datetime_moscow_times_guardian)\n",
    "print(datetime_moscow_times_daily_news)\n"
   ]
  },
  {
   "cell_type": "code",
   "execution_count": 16,
   "id": "eaad89cd-0d46-43f3-b978-6aabad5e4df8",
   "metadata": {
    "scrolled": true
   },
   "outputs": [
    {
     "name": "stdout",
     "output_type": "stream",
     "text": [
      "['2022-01-01', '2022-01-02', '2022-01-03']\n"
     ]
    }
   ],
   "source": [
    "from datetime import datetime, timedelta\n",
    "\n",
    "def date_range(start_date, end_date):\n",
    "    # Преобразуем строки в datetime\n",
    "    start_date = datetime.strptime(start_date, '%Y-%m-%d')\n",
    "    end_date = datetime.strptime(end_date, '%Y-%m-%d')\n",
    "\n",
    "    dates = []\n",
    "    current_date = start_date\n",
    "    while current_date <= end_date:\n",
    "        dates.append(datetime.strftime(current_date, format = '%Y-%m-%d'))\n",
    "        current_date += timedelta(days=1)\n",
    "    return dates\n",
    "\n",
    "print(date_range('2022-01-01', '2022-01-03'))\n"
   ]
  },
  {
   "cell_type": "code",
   "execution_count": null,
   "id": "1a633bad-3db9-4b3b-8fa5-8ec213faf20a",
   "metadata": {},
   "outputs": [],
   "source": []
  }
 ],
 "metadata": {
  "kernelspec": {
   "display_name": "Python 3 (ipykernel)",
   "language": "python",
   "name": "python3"
  },
  "language_info": {
   "codemirror_mode": {
    "name": "ipython",
    "version": 3
   },
   "file_extension": ".py",
   "mimetype": "text/x-python",
   "name": "python",
   "nbconvert_exporter": "python",
   "pygments_lexer": "ipython3",
   "version": "3.11.5"
  }
 },
 "nbformat": 4,
 "nbformat_minor": 5
}
